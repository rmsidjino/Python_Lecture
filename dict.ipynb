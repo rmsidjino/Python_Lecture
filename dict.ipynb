{
 "cells": [
  {
   "cell_type": "code",
   "execution_count": 1,
   "id": "9f66b9a9",
   "metadata": {
    "ExecuteTime": {
     "end_time": "2021-05-26T03:03:01.671972Z",
     "start_time": "2021-05-26T03:03:01.666974Z"
    }
   },
   "outputs": [],
   "source": [
    "a = {}"
   ]
  },
  {
   "cell_type": "code",
   "execution_count": 2,
   "id": "da9c9347",
   "metadata": {
    "ExecuteTime": {
     "end_time": "2021-05-26T03:03:23.431998Z",
     "start_time": "2021-05-26T03:03:23.426002Z"
    }
   },
   "outputs": [],
   "source": [
    "a[\"1\"] = \"fsdfsd\""
   ]
  },
  {
   "cell_type": "code",
   "execution_count": 3,
   "id": "7887142d",
   "metadata": {
    "ExecuteTime": {
     "end_time": "2021-05-26T03:03:27.746150Z",
     "start_time": "2021-05-26T03:03:27.737155Z"
    }
   },
   "outputs": [
    {
     "name": "stdout",
     "output_type": "stream",
     "text": [
      "{'1': 'fsdfsd'}\n"
     ]
    }
   ],
   "source": [
    "print (a)"
   ]
  },
  {
   "cell_type": "code",
   "execution_count": 4,
   "id": "45da0fcb",
   "metadata": {
    "ExecuteTime": {
     "end_time": "2021-05-26T03:03:50.862830Z",
     "start_time": "2021-05-26T03:03:50.852818Z"
    }
   },
   "outputs": [],
   "source": [
    "a[1]=\"dss\""
   ]
  },
  {
   "cell_type": "code",
   "execution_count": 5,
   "id": "4b6421b4",
   "metadata": {
    "ExecuteTime": {
     "end_time": "2021-05-26T03:03:56.180245Z",
     "start_time": "2021-05-26T03:03:56.175249Z"
    }
   },
   "outputs": [
    {
     "name": "stdout",
     "output_type": "stream",
     "text": [
      "{'1': 'fsdfsd', 1: 'dss'}\n"
     ]
    }
   ],
   "source": [
    "print(a)"
   ]
  },
  {
   "cell_type": "code",
   "execution_count": 6,
   "id": "93c49abc",
   "metadata": {
    "ExecuteTime": {
     "end_time": "2021-05-26T03:04:57.061892Z",
     "start_time": "2021-05-26T03:04:57.052881Z"
    }
   },
   "outputs": [],
   "source": [
    "a[\"1\"] = \"dsdaf\""
   ]
  },
  {
   "cell_type": "code",
   "execution_count": 7,
   "id": "57b69368",
   "metadata": {
    "ExecuteTime": {
     "end_time": "2021-05-26T03:04:59.914779Z",
     "start_time": "2021-05-26T03:04:59.910762Z"
    }
   },
   "outputs": [
    {
     "name": "stdout",
     "output_type": "stream",
     "text": [
      "{'1': 'dsdaf', 1: 'dss'}\n"
     ]
    }
   ],
   "source": [
    "print (a)"
   ]
  },
  {
   "cell_type": "code",
   "execution_count": 8,
   "id": "cd3a4406",
   "metadata": {
    "ExecuteTime": {
     "end_time": "2021-05-26T03:05:25.858754Z",
     "start_time": "2021-05-26T03:05:25.851758Z"
    }
   },
   "outputs": [
    {
     "ename": "SyntaxError",
     "evalue": "invalid syntax (<ipython-input-8-c76ebe4bb6bc>, line 1)",
     "output_type": "error",
     "traceback": [
      "\u001b[1;36m  File \u001b[1;32m\"<ipython-input-8-c76ebe4bb6bc>\"\u001b[1;36m, line \u001b[1;32m1\u001b[0m\n\u001b[1;33m    del a.[\"1\"]\u001b[0m\n\u001b[1;37m          ^\u001b[0m\n\u001b[1;31mSyntaxError\u001b[0m\u001b[1;31m:\u001b[0m invalid syntax\n"
     ]
    }
   ],
   "source": [
    "del a.[\"1\"]"
   ]
  },
  {
   "cell_type": "code",
   "execution_count": 9,
   "id": "e953c6bc",
   "metadata": {
    "ExecuteTime": {
     "end_time": "2021-05-26T03:05:31.246611Z",
     "start_time": "2021-05-26T03:05:31.233601Z"
    }
   },
   "outputs": [],
   "source": [
    "del a[\"1\"]"
   ]
  },
  {
   "cell_type": "code",
   "execution_count": 10,
   "id": "9c3cd89e",
   "metadata": {
    "ExecuteTime": {
     "end_time": "2021-05-26T03:05:36.046664Z",
     "start_time": "2021-05-26T03:05:36.032672Z"
    }
   },
   "outputs": [
    {
     "name": "stdout",
     "output_type": "stream",
     "text": [
      "{1: 'dss'}\n"
     ]
    }
   ],
   "source": [
    "print (a)"
   ]
  },
  {
   "cell_type": "code",
   "execution_count": 13,
   "id": "c693e844",
   "metadata": {
    "ExecuteTime": {
     "end_time": "2021-05-26T03:16:27.872881Z",
     "start_time": "2021-05-26T03:16:27.862884Z"
    }
   },
   "outputs": [],
   "source": [
    "key_ = [(1,\"a\"), (2,\"b\")]"
   ]
  },
  {
   "cell_type": "code",
   "execution_count": 14,
   "id": "9b77975a",
   "metadata": {
    "ExecuteTime": {
     "end_time": "2021-05-26T03:16:29.502096Z",
     "start_time": "2021-05-26T03:16:29.482105Z"
    }
   },
   "outputs": [
    {
     "data": {
      "text/plain": [
       "{1: 'a', 2: 'b'}"
      ]
     },
     "execution_count": 14,
     "metadata": {},
     "output_type": "execute_result"
    }
   ],
   "source": [
    "dict(key_)"
   ]
  },
  {
   "cell_type": "code",
   "execution_count": 16,
   "id": "29240080",
   "metadata": {
    "ExecuteTime": {
     "end_time": "2021-05-26T03:21:23.201601Z",
     "start_time": "2021-05-26T03:21:23.195599Z"
    }
   },
   "outputs": [
    {
     "data": {
      "text/plain": [
       "dict_items([(1, 'a'), (2, 'b')])"
      ]
     },
     "execution_count": 16,
     "metadata": {},
     "output_type": "execute_result"
    }
   ],
   "source": [
    "dict(key_).items()"
   ]
  },
  {
   "cell_type": "code",
   "execution_count": null,
   "id": "c6dabb0b",
   "metadata": {},
   "outputs": [],
   "source": []
  }
 ],
 "metadata": {
  "hide_input": false,
  "kernelspec": {
   "display_name": "Python 3",
   "language": "python",
   "name": "python3"
  },
  "language_info": {
   "codemirror_mode": {
    "name": "ipython",
    "version": 3
   },
   "file_extension": ".py",
   "mimetype": "text/x-python",
   "name": "python",
   "nbconvert_exporter": "python",
   "pygments_lexer": "ipython3",
   "version": "3.7.9"
  },
  "toc": {
   "base_numbering": 1,
   "nav_menu": {},
   "number_sections": true,
   "sideBar": true,
   "skip_h1_title": false,
   "title_cell": "Table of Contents",
   "title_sidebar": "Contents",
   "toc_cell": false,
   "toc_position": {},
   "toc_section_display": true,
   "toc_window_display": false
  },
  "varInspector": {
   "cols": {
    "lenName": 16,
    "lenType": 16,
    "lenVar": 40
   },
   "kernels_config": {
    "python": {
     "delete_cmd_postfix": "",
     "delete_cmd_prefix": "del ",
     "library": "var_list.py",
     "varRefreshCmd": "print(var_dic_list())"
    },
    "r": {
     "delete_cmd_postfix": ") ",
     "delete_cmd_prefix": "rm(",
     "library": "var_list.r",
     "varRefreshCmd": "cat(var_dic_list()) "
    }
   },
   "types_to_exclude": [
    "module",
    "function",
    "builtin_function_or_method",
    "instance",
    "_Feature"
   ],
   "window_display": false
  }
 },
 "nbformat": 4,
 "nbformat_minor": 5
}
