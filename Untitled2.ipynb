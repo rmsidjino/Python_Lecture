{
 "cells": [
  {
   "cell_type": "code",
   "execution_count": 4,
   "id": "432eb235",
   "metadata": {
    "ExecuteTime": {
     "end_time": "2021-05-24T07:57:16.642782Z",
     "start_time": "2021-05-24T07:57:16.638795Z"
    }
   },
   "outputs": [
    {
     "name": "stdout",
     "output_type": "stream",
     "text": [
      "이름 :  홍길동\n",
      "이름 :  홍길동\n"
     ]
    }
   ],
   "source": [
    "name = \"홍길동\"\n",
    "print(\"이름 : \", name)\n",
    "print(f\"이름 :  {name}\")"
   ]
  },
  {
   "cell_type": "code",
   "execution_count": 7,
   "id": "00d736cb",
   "metadata": {
    "ExecuteTime": {
     "end_time": "2021-05-24T08:12:57.165320Z",
     "start_time": "2021-05-24T08:12:57.149320Z"
    }
   },
   "outputs": [
    {
     "name": "stdout",
     "output_type": "stream",
     "text": [
      "안녕 ! 나는 홍길동 이야. 나는 나이가 27 살이야.\n"
     ]
    }
   ],
   "source": [
    "name = '홍길동'\n",
    "age= 27\n",
    "print ( \"안녕 ! 나는\", name, \"이야. 나는 나이가\", age, '살이야.')"
   ]
  },
  {
   "cell_type": "code",
   "execution_count": 8,
   "id": "14e99f8b",
   "metadata": {
    "ExecuteTime": {
     "end_time": "2021-05-24T08:28:04.397507Z",
     "start_time": "2021-05-24T08:28:04.382517Z"
    }
   },
   "outputs": [
    {
     "name": "stdout",
     "output_type": "stream",
     "text": [
      "안녕! 나는 홍길동 이야. 나는 나이가 27 살이야.\n",
      "안녕! 나는 %s 이야. 나는 나이가 %d 살이야.\n"
     ]
    },
    {
     "ename": "NameError",
     "evalue": "name 'pirnt' is not defined",
     "output_type": "error",
     "traceback": [
      "\u001b[1;31m---------------------------------------------------------------------------\u001b[0m",
      "\u001b[1;31mNameError\u001b[0m                                 Traceback (most recent call last)",
      "\u001b[1;32m<ipython-input-8-d1f27fb7c252>\u001b[0m in \u001b[0;36m<module>\u001b[1;34m\u001b[0m\n\u001b[0;32m      3\u001b[0m \u001b[0mprint\u001b[0m\u001b[1;33m(\u001b[0m\u001b[1;34m\"안녕! 나는\"\u001b[0m\u001b[1;33m,\u001b[0m \u001b[0mname\u001b[0m\u001b[1;33m,\u001b[0m \u001b[1;34m\"이야. 나는 나이가\"\u001b[0m\u001b[1;33m,\u001b[0m \u001b[0mage\u001b[0m\u001b[1;33m,\u001b[0m \u001b[1;34m\"살이야.\"\u001b[0m\u001b[1;33m)\u001b[0m\u001b[1;33m\u001b[0m\u001b[1;33m\u001b[0m\u001b[0m\n\u001b[0;32m      4\u001b[0m \u001b[0mprint\u001b[0m\u001b[1;33m(\u001b[0m\u001b[1;34m\"안녕! 나는 %s 이야. 나는 나이가 %d 살이야.\"\u001b[0m\u001b[1;33m.\u001b[0m\u001b[0mformat\u001b[0m\u001b[1;33m(\u001b[0m\u001b[0mname\u001b[0m\u001b[1;33m,\u001b[0m\u001b[0mage\u001b[0m \u001b[1;33m)\u001b[0m\u001b[1;33m)\u001b[0m\u001b[1;33m\u001b[0m\u001b[1;33m\u001b[0m\u001b[0m\n\u001b[1;32m----> 5\u001b[1;33m \u001b[0mpirnt\u001b[0m\u001b[1;33m(\u001b[0m\u001b[1;34mf'안녕! 나는 {name} 이야. 나는 나이가 {age} 살이야'\u001b[0m\u001b[1;33m)\u001b[0m\u001b[1;33m\u001b[0m\u001b[1;33m\u001b[0m\u001b[0m\n\u001b[0m",
      "\u001b[1;31mNameError\u001b[0m: name 'pirnt' is not defined"
     ]
    }
   ],
   "source": [
    "name = \"홍길동\"\n",
    "age = 27\n",
    "print(\"안녕! 나는\", name, \"이야. 나는 나이가\", age, \"살이야.\")\n",
    "print(\"안녕! 나는 %s 이야. 나는 나이가 %d 살이야.\".format(name,age ))\n",
    "pirnt(f'안녕! 나는 {name} 이야. 나는 나이가 {age} 살이야')"
   ]
  },
  {
   "cell_type": "code",
   "execution_count": 9,
   "id": "fded0757",
   "metadata": {
    "ExecuteTime": {
     "end_time": "2021-05-24T08:28:09.839890Z",
     "start_time": "2021-05-24T08:28:09.825899Z"
    }
   },
   "outputs": [
    {
     "ename": "SyntaxError",
     "evalue": "invalid syntax (<ipython-input-9-9ab55219eba7>, line 1)",
     "output_type": "error",
     "traceback": [
      "\u001b[1;36m  File \u001b[1;32m\"<ipython-input-9-9ab55219eba7>\"\u001b[1;36m, line \u001b[1;32m1\u001b[0m\n\u001b[1;33m    4-1-\u001b[0m\n\u001b[1;37m        ^\u001b[0m\n\u001b[1;31mSyntaxError\u001b[0m\u001b[1;31m:\u001b[0m invalid syntax\n"
     ]
    }
   ],
   "source": [
    "4-1-"
   ]
  },
  {
   "cell_type": "code",
   "execution_count": 10,
   "id": "4ceb3af1",
   "metadata": {
    "ExecuteTime": {
     "end_time": "2021-05-24T08:28:11.792101Z",
     "start_time": "2021-05-24T08:28:11.769101Z"
    }
   },
   "outputs": [
    {
     "data": {
      "text/plain": [
       "-6"
      ]
     },
     "execution_count": 10,
     "metadata": {},
     "output_type": "execute_result"
    }
   ],
   "source": [
    "4-10"
   ]
  },
  {
   "cell_type": "code",
   "execution_count": 11,
   "id": "ed85ffdb",
   "metadata": {
    "ExecuteTime": {
     "end_time": "2021-05-24T08:28:56.044670Z",
     "start_time": "2021-05-24T08:28:56.029696Z"
    }
   },
   "outputs": [
    {
     "ename": "NameError",
     "evalue": "name 'ᄏᄏ' is not defined",
     "output_type": "error",
     "traceback": [
      "\u001b[1;31m---------------------------------------------------------------------------\u001b[0m",
      "\u001b[1;31mNameError\u001b[0m                                 Traceback (most recent call last)",
      "\u001b[1;32m<ipython-input-11-00e531565c1a>\u001b[0m in \u001b[0;36m<module>\u001b[1;34m\u001b[0m\n\u001b[1;32m----> 1\u001b[1;33m \u001b[0mㅋㅋ\u001b[0m\u001b[1;33m\u001b[0m\u001b[1;33m\u001b[0m\u001b[0m\n\u001b[0m",
      "\u001b[1;31mNameError\u001b[0m: name 'ᄏᄏ' is not defined"
     ]
    }
   ],
   "source": [
    "ㅋㅋ"
   ]
  },
  {
   "cell_type": "code",
   "execution_count": 12,
   "id": "bffddec7",
   "metadata": {
    "ExecuteTime": {
     "end_time": "2021-05-24T08:29:02.361957Z",
     "start_time": "2021-05-24T08:29:02.354976Z"
    }
   },
   "outputs": [
    {
     "data": {
      "text/plain": [
       "5"
      ]
     },
     "execution_count": 12,
     "metadata": {},
     "output_type": "execute_result"
    }
   ],
   "source": [
    "10//2"
   ]
  },
  {
   "cell_type": "code",
   "execution_count": 13,
   "id": "1c7e52e3",
   "metadata": {
    "ExecuteTime": {
     "end_time": "2021-05-24T08:29:18.321891Z",
     "start_time": "2021-05-24T08:29:18.308898Z"
    }
   },
   "outputs": [
    {
     "data": {
      "text/plain": [
       "0"
      ]
     },
     "execution_count": 13,
     "metadata": {},
     "output_type": "execute_result"
    }
   ],
   "source": [
    "10%2"
   ]
  },
  {
   "cell_type": "code",
   "execution_count": 14,
   "id": "2200eefd",
   "metadata": {
    "ExecuteTime": {
     "end_time": "2021-05-24T08:34:12.256822Z",
     "start_time": "2021-05-24T08:34:12.248829Z"
    }
   },
   "outputs": [
    {
     "data": {
      "text/plain": [
       "8.0"
      ]
     },
     "execution_count": 14,
     "metadata": {},
     "output_type": "execute_result"
    }
   ],
   "source": [
    "5+3.0"
   ]
  },
  {
   "cell_type": "code",
   "execution_count": null,
   "id": "1838731f",
   "metadata": {},
   "outputs": [],
   "source": []
  }
 ],
 "metadata": {
  "hide_input": false,
  "kernelspec": {
   "display_name": "Python 3",
   "language": "python",
   "name": "python3"
  },
  "language_info": {
   "codemirror_mode": {
    "name": "ipython",
    "version": 3
   },
   "file_extension": ".py",
   "mimetype": "text/x-python",
   "name": "python",
   "nbconvert_exporter": "python",
   "pygments_lexer": "ipython3",
   "version": "3.7.9"
  },
  "toc": {
   "base_numbering": 1,
   "nav_menu": {},
   "number_sections": true,
   "sideBar": true,
   "skip_h1_title": false,
   "title_cell": "Table of Contents",
   "title_sidebar": "Contents",
   "toc_cell": false,
   "toc_position": {},
   "toc_section_display": true,
   "toc_window_display": false
  },
  "varInspector": {
   "cols": {
    "lenName": 16,
    "lenType": 16,
    "lenVar": 40
   },
   "kernels_config": {
    "python": {
     "delete_cmd_postfix": "",
     "delete_cmd_prefix": "del ",
     "library": "var_list.py",
     "varRefreshCmd": "print(var_dic_list())"
    },
    "r": {
     "delete_cmd_postfix": ") ",
     "delete_cmd_prefix": "rm(",
     "library": "var_list.r",
     "varRefreshCmd": "cat(var_dic_list()) "
    }
   },
   "types_to_exclude": [
    "module",
    "function",
    "builtin_function_or_method",
    "instance",
    "_Feature"
   ],
   "window_display": false
  }
 },
 "nbformat": 4,
 "nbformat_minor": 5
}
