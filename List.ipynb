{
 "cells": [
  {
   "cell_type": "code",
   "execution_count": 1,
   "id": "578f597b",
   "metadata": {
    "ExecuteTime": {
     "end_time": "2021-05-26T00:27:11.438445Z",
     "start_time": "2021-05-26T00:27:11.418333Z"
    }
   },
   "outputs": [
    {
     "data": {
      "text/plain": [
       "list"
      ]
     },
     "execution_count": 1,
     "metadata": {},
     "output_type": "execute_result"
    }
   ],
   "source": [
    "even_list = [2,4,6,8,10]\n",
    "type(even_list)"
   ]
  },
  {
   "cell_type": "code",
   "execution_count": 4,
   "id": "812ee380",
   "metadata": {
    "ExecuteTime": {
     "end_time": "2021-05-26T00:28:16.708555Z",
     "start_time": "2021-05-26T00:28:16.692556Z"
    }
   },
   "outputs": [
    {
     "data": {
      "text/plain": [
       "list"
      ]
     },
     "execution_count": 4,
     "metadata": {},
     "output_type": "execute_result"
    }
   ],
   "source": [
    "list_data = list(range(10))\n",
    "type(list_data)"
   ]
  },
  {
   "cell_type": "code",
   "execution_count": 5,
   "id": "6c7f90fb",
   "metadata": {
    "ExecuteTime": {
     "end_time": "2021-05-26T00:28:17.769268Z",
     "start_time": "2021-05-26T00:28:17.752413Z"
    }
   },
   "outputs": [
    {
     "name": "stdout",
     "output_type": "stream",
     "text": [
      "[0, 1, 2, 3, 4, 5, 6, 7, 8, 9]\n"
     ]
    }
   ],
   "source": [
    "print(list_data)"
   ]
  },
  {
   "cell_type": "code",
   "execution_count": 6,
   "id": "1a279321",
   "metadata": {
    "ExecuteTime": {
     "end_time": "2021-05-26T00:35:23.034679Z",
     "start_time": "2021-05-26T00:35:23.017017Z"
    }
   },
   "outputs": [],
   "source": [
    "tuple_data = (1,2,3,[4,5,6])"
   ]
  },
  {
   "cell_type": "code",
   "execution_count": 7,
   "id": "5e4da463",
   "metadata": {
    "ExecuteTime": {
     "end_time": "2021-05-26T00:35:29.581843Z",
     "start_time": "2021-05-26T00:35:29.556345Z"
    }
   },
   "outputs": [
    {
     "name": "stdout",
     "output_type": "stream",
     "text": [
      "(1, 2, 3, [4, 5, 6])\n"
     ]
    }
   ],
   "source": [
    "print(tuple_data)"
   ]
  },
  {
   "cell_type": "markdown",
   "id": "2ff628b7",
   "metadata": {},
   "source": [
    "### 리스트 자료형"
   ]
  },
  {
   "cell_type": "code",
   "execution_count": 8,
   "id": "eb7e63d2",
   "metadata": {
    "ExecuteTime": {
     "end_time": "2021-05-26T00:48:22.098056Z",
     "start_time": "2021-05-26T00:48:22.072513Z"
    }
   },
   "outputs": [],
   "source": [
    "a = [1, 2, 3]"
   ]
  },
  {
   "cell_type": "code",
   "execution_count": 9,
   "id": "4f94769b",
   "metadata": {
    "ExecuteTime": {
     "end_time": "2021-05-26T00:48:35.874577Z",
     "start_time": "2021-05-26T00:48:35.858563Z"
    },
    "scrolled": true
   },
   "outputs": [
    {
     "data": {
      "text/plain": [
       "3"
      ]
     },
     "execution_count": 9,
     "metadata": {},
     "output_type": "execute_result"
    }
   ],
   "source": [
    "a[0] + a[1]"
   ]
  },
  {
   "cell_type": "markdown",
   "id": "ddbcbfc4",
   "metadata": {},
   "source": []
  },
  {
   "cell_type": "code",
   "execution_count": 11,
   "id": "22b954df",
   "metadata": {
    "ExecuteTime": {
     "end_time": "2021-05-26T01:18:21.903819Z",
     "start_time": "2021-05-26T01:18:21.894310Z"
    }
   },
   "outputs": [
    {
     "data": {
      "text/plain": [
       "[1, 2]"
      ]
     },
     "execution_count": 11,
     "metadata": {},
     "output_type": "execute_result"
    }
   ],
   "source": [
    "a[:2]"
   ]
  },
  {
   "cell_type": "markdown",
   "id": "550784af",
   "metadata": {},
   "source": [
    "## 리스트의 인덱싱과 슬라이싱\n",
    "\n",
    "리스트도 문자열처럼 인덱싱과 슬라이싱이 가능하다. 백문이 불여일견. 말로 설명하는 것보다 직접 예를 실행해 보면서 리스트의 기본 구조를 이해하는 것이 쉽다. 대화형 인터프리터로 따라 하며 확실하게 이해하자.\n",
    "\n",
    "### 리스트의 인덱싱\n",
    "\n",
    "리스트 역시 문자열처럼 인덱싱을 적용할 수 있다. 먼저 a 변수에 [1, 2, 3] 값을 설정한다.\n",
    "\n",
    "```\n",
    ">>> a = [1, 2, 3]\n",
    ">>> a\n",
    "[1, 2, 3]\n",
    "```\n",
    "\n",
    "a[0]은 리스트 a의 첫 번째 요솟값을 말한다.\n",
    "\n",
    "```\n",
    ">>> a[0]\n",
    "1\n",
    "```\n",
    "\n",
    "다음 예는 리스트의 첫 번째 요소인 a[0]과 세 번째 요소인 a[2]의 값을 더한 것이다.\n",
    "\n",
    "```\n",
    ">>> a[0] + a[2]\n",
    "4\n",
    "```\n",
    "\n",
    "이것은 1 + 3으로 해석되어 값 4를 출력한다.\n",
    "\n",
    "문자열을 공부할 때 이미 살펴보았지만 파이썬은 숫자를 0부터 세기 때문에 a[1]이 리스트 a의 첫 번째 요소가 아니라 a[0]이 리스트 a의 첫 번째 요소임을 명심하자. a[-1]은 문자열에서와 마찬가지로 리스트 a의 마지막 요솟값을 말한다.\n",
    "\n",
    "```\n",
    ">>> a[-1]\n",
    "3\n",
    "```\n",
    "\n",
    "이번에는 다음 예처럼 리스트 a를 숫자 1, 2, 3과 또 다른 리스트인 ['a', 'b', 'c']를 포함하도록 만들어 보자.\n",
    "\n",
    "```\n",
    ">>> a = [1, 2, 3, ['a', 'b', 'c']]\n",
    "```\n",
    "\n",
    "다음 예를 따라 해 보자.\n",
    "\n",
    "```\n",
    ">>> a[0]\n",
    "1\n",
    ">>> a[-1]\n",
    "['a', 'b', 'c']\n",
    ">>> a[3]\n",
    "['a', 'b', 'c']\n",
    "```\n",
    "\n",
    "예상한 대로 a[-1]은 마지막 요솟값 ['a', 'b', 'c']를 나타낸다. a[3]은 리스트 a의 네 번째 요소를 나타내기 때문에 마지막 요소를 나타내는 a[-1]과 동일한 결괏값을 보여 준다.\n",
    "\n",
    "그렇다면 여기에서 리스트 a에 포함된 ['a', 'b', 'c'] 리스트에서 'a' 값을 인덱싱을 사용해 끄집어낼 수 있는 방법은 없을까? 다음 예를 보자.\n",
    "\n",
    "```\n",
    ">>> a[-1][0]\n",
    "'a'\n",
    "```\n",
    "\n",
    "위와 같이 하면 'a'를 끄집어낼 수 있다. a[-1]이 ['a', 'b', 'c'] 리스트라는 것은 이미 말했다. 바로 이 리스트에서 첫 번째 요소를 불러오기 위해 [0]을 붙여 준 것이다.\n",
    "\n",
    "다음 예도 마찬가지 경우이므로 어렵지 않게 이해될 것이다."
   ]
  },
  {
   "cell_type": "code",
   "execution_count": 12,
   "id": "36fdf26a",
   "metadata": {
    "ExecuteTime": {
     "end_time": "2021-05-26T02:45:02.735804Z",
     "start_time": "2021-05-26T02:45:02.727814Z"
    }
   },
   "outputs": [],
   "source": [
    "a = (1,2)"
   ]
  },
  {
   "cell_type": "code",
   "execution_count": 13,
   "id": "46eb47af",
   "metadata": {
    "ExecuteTime": {
     "end_time": "2021-05-26T02:45:31.391860Z",
     "start_time": "2021-05-26T02:45:31.385846Z"
    }
   },
   "outputs": [],
   "source": [
    "t4 = 1, 2, 3"
   ]
  },
  {
   "cell_type": "code",
   "execution_count": 14,
   "id": "657031b4",
   "metadata": {
    "ExecuteTime": {
     "end_time": "2021-05-26T02:45:36.534866Z",
     "start_time": "2021-05-26T02:45:36.531865Z"
    }
   },
   "outputs": [
    {
     "name": "stdout",
     "output_type": "stream",
     "text": [
      "(1, 2, 3)\n"
     ]
    }
   ],
   "source": [
    "print(t4)"
   ]
  },
  {
   "cell_type": "code",
   "execution_count": 15,
   "id": "a6ba710a",
   "metadata": {
    "ExecuteTime": {
     "end_time": "2021-05-26T02:45:47.804384Z",
     "start_time": "2021-05-26T02:45:47.786885Z"
    }
   },
   "outputs": [],
   "source": [
    "a = 1"
   ]
  },
  {
   "cell_type": "code",
   "execution_count": 16,
   "id": "679ed1e3",
   "metadata": {
    "ExecuteTime": {
     "end_time": "2021-05-26T02:45:52.286895Z",
     "start_time": "2021-05-26T02:45:52.273911Z"
    }
   },
   "outputs": [
    {
     "data": {
      "text/plain": [
       "int"
      ]
     },
     "execution_count": 16,
     "metadata": {},
     "output_type": "execute_result"
    }
   ],
   "source": [
    "type(a)"
   ]
  },
  {
   "cell_type": "code",
   "execution_count": 17,
   "id": "bbaf6766",
   "metadata": {
    "ExecuteTime": {
     "end_time": "2021-05-26T02:45:58.643143Z",
     "start_time": "2021-05-26T02:45:58.570192Z"
    }
   },
   "outputs": [
    {
     "ename": "TypeError",
     "evalue": "'int' object is not iterable",
     "output_type": "error",
     "traceback": [
      "\u001b[1;31m---------------------------------------------------------------------------\u001b[0m",
      "\u001b[1;31mTypeError\u001b[0m                                 Traceback (most recent call last)",
      "\u001b[1;32m<ipython-input-17-656d20f73f16>\u001b[0m in \u001b[0;36m<module>\u001b[1;34m\u001b[0m\n\u001b[1;32m----> 1\u001b[1;33m \u001b[0mtuple\u001b[0m\u001b[1;33m(\u001b[0m\u001b[0ma\u001b[0m\u001b[1;33m)\u001b[0m\u001b[1;33m\u001b[0m\u001b[1;33m\u001b[0m\u001b[0m\n\u001b[0m",
      "\u001b[1;31mTypeError\u001b[0m: 'int' object is not iterable"
     ]
    }
   ],
   "source": [
    "tuple(a)"
   ]
  },
  {
   "cell_type": "code",
   "execution_count": null,
   "id": "b946ecd0",
   "metadata": {},
   "outputs": [],
   "source": []
  }
 ],
 "metadata": {
  "hide_input": false,
  "kernelspec": {
   "display_name": "Python 3",
   "language": "python",
   "name": "python3"
  },
  "language_info": {
   "codemirror_mode": {
    "name": "ipython",
    "version": 3
   },
   "file_extension": ".py",
   "mimetype": "text/x-python",
   "name": "python",
   "nbconvert_exporter": "python",
   "pygments_lexer": "ipython3",
   "version": "3.7.9"
  },
  "toc": {
   "base_numbering": 1,
   "nav_menu": {},
   "number_sections": true,
   "sideBar": true,
   "skip_h1_title": false,
   "title_cell": "Table of Contents",
   "title_sidebar": "Contents",
   "toc_cell": false,
   "toc_position": {},
   "toc_section_display": true,
   "toc_window_display": false
  },
  "varInspector": {
   "cols": {
    "lenName": 16,
    "lenType": 16,
    "lenVar": 40
   },
   "kernels_config": {
    "python": {
     "delete_cmd_postfix": "",
     "delete_cmd_prefix": "del ",
     "library": "var_list.py",
     "varRefreshCmd": "print(var_dic_list())"
    },
    "r": {
     "delete_cmd_postfix": ") ",
     "delete_cmd_prefix": "rm(",
     "library": "var_list.r",
     "varRefreshCmd": "cat(var_dic_list()) "
    }
   },
   "types_to_exclude": [
    "module",
    "function",
    "builtin_function_or_method",
    "instance",
    "_Feature"
   ],
   "window_display": false
  }
 },
 "nbformat": 4,
 "nbformat_minor": 5
}
